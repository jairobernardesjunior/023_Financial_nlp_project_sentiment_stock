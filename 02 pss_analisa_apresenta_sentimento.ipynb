{
 "cells": [
  {
   "cell_type": "markdown",
   "metadata": {},
   "source": [
    "- ## Análise de sentimento\n",
    "    - textblob\n",
    "    - vader\n",
    "    - bert"
   ]
  },
  {
   "cell_type": "code",
   "execution_count": 29,
   "metadata": {},
   "outputs": [],
   "source": [
    "# maximiza nro de linhas e colunas para exibição\n",
    "# inibe mensagens de warning\n",
    "import pandas as pd\n",
    "pd.set_option('display.max_rows', None) # permite a máxima visualização das linhas em um display\n",
    "pd.set_option('display.max_columns', None) # permite a máxima visualização das colunas em um display\n",
    "import warnings\n",
    "warnings.simplefilter('ignore') # inibe a exibição de avisos de warning"
   ]
  },
  {
   "cell_type": "code",
   "execution_count": 30,
   "metadata": {},
   "outputs": [],
   "source": [
    "# bibliotecas\n",
    "import matplotlib.pyplot as plt \n",
    "import seaborn as sns\n",
    "\n",
    "from matplotlib_venn import venn3, venn3_circles"
   ]
  },
  {
   "cell_type": "code",
   "execution_count": 31,
   "metadata": {},
   "outputs": [],
   "source": [
    "# carregando arquivo tratado em dataframe\n",
    "df_tblob = pd.read_csv('treated/df_tblob.csv', sep=',')\n",
    "df_vader = pd.read_csv('treated/df_vader.csv', sep=',')\n",
    "df_bert = pd.read_csv('treated/df_bert.csv', sep=',')"
   ]
  },
  {
   "cell_type": "code",
   "execution_count": 32,
   "metadata": {},
   "outputs": [
    {
     "data": {
      "text/html": [
       "<div>\n",
       "<style scoped>\n",
       "    .dataframe tbody tr th:only-of-type {\n",
       "        vertical-align: middle;\n",
       "    }\n",
       "\n",
       "    .dataframe tbody tr th {\n",
       "        vertical-align: top;\n",
       "    }\n",
       "\n",
       "    .dataframe thead th {\n",
       "        text-align: right;\n",
       "    }\n",
       "</style>\n",
       "<table border=\"1\" class=\"dataframe\">\n",
       "  <thead>\n",
       "    <tr style=\"text-align: right;\">\n",
       "      <th></th>\n",
       "      <th>0</th>\n",
       "      <th>polarity</th>\n",
       "      <th>subjectivity</th>\n",
       "      <th>Sentiment</th>\n",
       "    </tr>\n",
       "  </thead>\n",
       "  <tbody>\n",
       "    <tr>\n",
       "      <th>0</th>\n",
       "      <td>crazy that  is going to &gt; market cap at the ne...</td>\n",
       "      <td>0.125000</td>\n",
       "      <td>0.600</td>\n",
       "      <td>Positivo</td>\n",
       "    </tr>\n",
       "    <tr>\n",
       "      <th>1</th>\n",
       "      <td>crazy part is, a lot of what i have been tradi...</td>\n",
       "      <td>-0.600000</td>\n",
       "      <td>0.900</td>\n",
       "      <td>Negativo</td>\n",
       "    </tr>\n",
       "    <tr>\n",
       "      <th>2</th>\n",
       "      <td>stacking on support..</td>\n",
       "      <td>0.000000</td>\n",
       "      <td>0.000</td>\n",
       "      <td>Neutro</td>\n",
       "    </tr>\n",
       "    <tr>\n",
       "      <th>3</th>\n",
       "      <td>lfg!!</td>\n",
       "      <td>0.000000</td>\n",
       "      <td>0.000</td>\n",
       "      <td>Neutro</td>\n",
       "    </tr>\n",
       "    <tr>\n",
       "      <th>4</th>\n",
       "      <td>- twitter been super bullish on this one and t...</td>\n",
       "      <td>0.195833</td>\n",
       "      <td>0.325</td>\n",
       "      <td>Positivo</td>\n",
       "    </tr>\n",
       "  </tbody>\n",
       "</table>\n",
       "</div>"
      ],
      "text/plain": [
       "                                                   0  polarity  subjectivity  \\\n",
       "0  crazy that  is going to > market cap at the ne...  0.125000         0.600   \n",
       "1  crazy part is, a lot of what i have been tradi... -0.600000         0.900   \n",
       "2                              stacking on support..  0.000000         0.000   \n",
       "3                                              lfg!!  0.000000         0.000   \n",
       "4  - twitter been super bullish on this one and t...  0.195833         0.325   \n",
       "\n",
       "  Sentiment  \n",
       "0  Positivo  \n",
       "1  Negativo  \n",
       "2    Neutro  \n",
       "3    Neutro  \n",
       "4  Positivo  "
      ]
     },
     "execution_count": 32,
     "metadata": {},
     "output_type": "execute_result"
    }
   ],
   "source": [
    "df_tblob.head(5)    "
   ]
  },
  {
   "cell_type": "code",
   "execution_count": 33,
   "metadata": {},
   "outputs": [],
   "source": [
    "df_tblob.rename(columns={df_tblob.columns[0]: 'Tweets'},inplace=True)"
   ]
  },
  {
   "cell_type": "code",
   "execution_count": 34,
   "metadata": {},
   "outputs": [],
   "source": [
    "df_tblob.rename(columns={'Sentiment': 'Textblob'},inplace=True)"
   ]
  },
  {
   "cell_type": "code",
   "execution_count": 35,
   "metadata": {},
   "outputs": [],
   "source": [
    "df_tblob.rename(columns={'polarity': 'TB_Polarity','subjectivity':'TB_Subjectivity'},inplace=True)"
   ]
  },
  {
   "cell_type": "code",
   "execution_count": 36,
   "metadata": {},
   "outputs": [
    {
     "data": {
      "text/html": [
       "<div>\n",
       "<style scoped>\n",
       "    .dataframe tbody tr th:only-of-type {\n",
       "        vertical-align: middle;\n",
       "    }\n",
       "\n",
       "    .dataframe tbody tr th {\n",
       "        vertical-align: top;\n",
       "    }\n",
       "\n",
       "    .dataframe thead th {\n",
       "        text-align: right;\n",
       "    }\n",
       "</style>\n",
       "<table border=\"1\" class=\"dataframe\">\n",
       "  <thead>\n",
       "    <tr style=\"text-align: right;\">\n",
       "      <th></th>\n",
       "      <th>Tweets</th>\n",
       "      <th>TB_Polarity</th>\n",
       "      <th>TB_Subjectivity</th>\n",
       "      <th>Textblob</th>\n",
       "    </tr>\n",
       "  </thead>\n",
       "  <tbody>\n",
       "    <tr>\n",
       "      <th>0</th>\n",
       "      <td>crazy that  is going to &gt; market cap at the ne...</td>\n",
       "      <td>0.125000</td>\n",
       "      <td>0.600</td>\n",
       "      <td>Positivo</td>\n",
       "    </tr>\n",
       "    <tr>\n",
       "      <th>1</th>\n",
       "      <td>crazy part is, a lot of what i have been tradi...</td>\n",
       "      <td>-0.600000</td>\n",
       "      <td>0.900</td>\n",
       "      <td>Negativo</td>\n",
       "    </tr>\n",
       "    <tr>\n",
       "      <th>2</th>\n",
       "      <td>stacking on support..</td>\n",
       "      <td>0.000000</td>\n",
       "      <td>0.000</td>\n",
       "      <td>Neutro</td>\n",
       "    </tr>\n",
       "    <tr>\n",
       "      <th>3</th>\n",
       "      <td>lfg!!</td>\n",
       "      <td>0.000000</td>\n",
       "      <td>0.000</td>\n",
       "      <td>Neutro</td>\n",
       "    </tr>\n",
       "    <tr>\n",
       "      <th>4</th>\n",
       "      <td>- twitter been super bullish on this one and t...</td>\n",
       "      <td>0.195833</td>\n",
       "      <td>0.325</td>\n",
       "      <td>Positivo</td>\n",
       "    </tr>\n",
       "  </tbody>\n",
       "</table>\n",
       "</div>"
      ],
      "text/plain": [
       "                                              Tweets  TB_Polarity  \\\n",
       "0  crazy that  is going to > market cap at the ne...     0.125000   \n",
       "1  crazy part is, a lot of what i have been tradi...    -0.600000   \n",
       "2                              stacking on support..     0.000000   \n",
       "3                                              lfg!!     0.000000   \n",
       "4  - twitter been super bullish on this one and t...     0.195833   \n",
       "\n",
       "   TB_Subjectivity  Textblob  \n",
       "0            0.600  Positivo  \n",
       "1            0.900  Negativo  \n",
       "2            0.000    Neutro  \n",
       "3            0.000    Neutro  \n",
       "4            0.325  Positivo  "
      ]
     },
     "execution_count": 36,
     "metadata": {},
     "output_type": "execute_result"
    }
   ],
   "source": [
    "df_tblob.head(5) "
   ]
  },
  {
   "cell_type": "code",
   "execution_count": 37,
   "metadata": {},
   "outputs": [
    {
     "data": {
      "text/html": [
       "<div>\n",
       "<style scoped>\n",
       "    .dataframe tbody tr th:only-of-type {\n",
       "        vertical-align: middle;\n",
       "    }\n",
       "\n",
       "    .dataframe tbody tr th {\n",
       "        vertical-align: top;\n",
       "    }\n",
       "\n",
       "    .dataframe thead th {\n",
       "        text-align: right;\n",
       "    }\n",
       "</style>\n",
       "<table border=\"1\" class=\"dataframe\">\n",
       "  <thead>\n",
       "    <tr style=\"text-align: right;\">\n",
       "      <th></th>\n",
       "      <th>0</th>\n",
       "      <th>Sentiment</th>\n",
       "      <th>neg</th>\n",
       "      <th>neu</th>\n",
       "      <th>pos</th>\n",
       "      <th>compound</th>\n",
       "    </tr>\n",
       "  </thead>\n",
       "  <tbody>\n",
       "    <tr>\n",
       "      <th>0</th>\n",
       "      <td>crazy that  is going to &gt; market cap at the ne...</td>\n",
       "      <td>Negativo</td>\n",
       "      <td>0.182</td>\n",
       "      <td>0.765</td>\n",
       "      <td>0.053</td>\n",
       "      <td>-0.6597</td>\n",
       "    </tr>\n",
       "    <tr>\n",
       "      <th>1</th>\n",
       "      <td>crazy part is, a lot of what i have been tradi...</td>\n",
       "      <td>Negativo</td>\n",
       "      <td>0.179</td>\n",
       "      <td>0.821</td>\n",
       "      <td>0.000</td>\n",
       "      <td>-0.3400</td>\n",
       "    </tr>\n",
       "    <tr>\n",
       "      <th>2</th>\n",
       "      <td>stacking on support..</td>\n",
       "      <td>Neutro</td>\n",
       "      <td>0.000</td>\n",
       "      <td>1.000</td>\n",
       "      <td>0.000</td>\n",
       "      <td>0.0000</td>\n",
       "    </tr>\n",
       "    <tr>\n",
       "      <th>3</th>\n",
       "      <td>lfg!!</td>\n",
       "      <td>Neutro</td>\n",
       "      <td>0.000</td>\n",
       "      <td>1.000</td>\n",
       "      <td>0.000</td>\n",
       "      <td>0.0000</td>\n",
       "    </tr>\n",
       "    <tr>\n",
       "      <th>4</th>\n",
       "      <td>- twitter been super bullish on this one and t...</td>\n",
       "      <td>Positivo</td>\n",
       "      <td>0.000</td>\n",
       "      <td>0.809</td>\n",
       "      <td>0.191</td>\n",
       "      <td>0.7650</td>\n",
       "    </tr>\n",
       "  </tbody>\n",
       "</table>\n",
       "</div>"
      ],
      "text/plain": [
       "                                                   0 Sentiment    neg    neu  \\\n",
       "0  crazy that  is going to > market cap at the ne...  Negativo  0.182  0.765   \n",
       "1  crazy part is, a lot of what i have been tradi...  Negativo  0.179  0.821   \n",
       "2                              stacking on support..    Neutro  0.000  1.000   \n",
       "3                                              lfg!!    Neutro  0.000  1.000   \n",
       "4  - twitter been super bullish on this one and t...  Positivo  0.000  0.809   \n",
       "\n",
       "     pos  compound  \n",
       "0  0.053   -0.6597  \n",
       "1  0.000   -0.3400  \n",
       "2  0.000    0.0000  \n",
       "3  0.000    0.0000  \n",
       "4  0.191    0.7650  "
      ]
     },
     "execution_count": 37,
     "metadata": {},
     "output_type": "execute_result"
    }
   ],
   "source": [
    "df_vader.head(5)"
   ]
  },
  {
   "cell_type": "code",
   "execution_count": 38,
   "metadata": {},
   "outputs": [],
   "source": [
    "df_vader.rename(columns={df_vader.columns[0]: 'Tweets',\n",
    "                    'Sentiment':'Vader',\n",
    "                    'compound':'VD_Polarity'},inplace=True)"
   ]
  },
  {
   "cell_type": "code",
   "execution_count": 39,
   "metadata": {},
   "outputs": [],
   "source": [
    "df_vader.drop(['neg', 'neu', 'pos'], axis=1, inplace=True)"
   ]
  },
  {
   "cell_type": "code",
   "execution_count": 40,
   "metadata": {},
   "outputs": [
    {
     "data": {
      "text/html": [
       "<div>\n",
       "<style scoped>\n",
       "    .dataframe tbody tr th:only-of-type {\n",
       "        vertical-align: middle;\n",
       "    }\n",
       "\n",
       "    .dataframe tbody tr th {\n",
       "        vertical-align: top;\n",
       "    }\n",
       "\n",
       "    .dataframe thead th {\n",
       "        text-align: right;\n",
       "    }\n",
       "</style>\n",
       "<table border=\"1\" class=\"dataframe\">\n",
       "  <thead>\n",
       "    <tr style=\"text-align: right;\">\n",
       "      <th></th>\n",
       "      <th>Tweets</th>\n",
       "      <th>Vader</th>\n",
       "      <th>VD_Polarity</th>\n",
       "    </tr>\n",
       "  </thead>\n",
       "  <tbody>\n",
       "    <tr>\n",
       "      <th>0</th>\n",
       "      <td>crazy that  is going to &gt; market cap at the ne...</td>\n",
       "      <td>Negativo</td>\n",
       "      <td>-0.6597</td>\n",
       "    </tr>\n",
       "    <tr>\n",
       "      <th>1</th>\n",
       "      <td>crazy part is, a lot of what i have been tradi...</td>\n",
       "      <td>Negativo</td>\n",
       "      <td>-0.3400</td>\n",
       "    </tr>\n",
       "    <tr>\n",
       "      <th>2</th>\n",
       "      <td>stacking on support..</td>\n",
       "      <td>Neutro</td>\n",
       "      <td>0.0000</td>\n",
       "    </tr>\n",
       "    <tr>\n",
       "      <th>3</th>\n",
       "      <td>lfg!!</td>\n",
       "      <td>Neutro</td>\n",
       "      <td>0.0000</td>\n",
       "    </tr>\n",
       "    <tr>\n",
       "      <th>4</th>\n",
       "      <td>- twitter been super bullish on this one and t...</td>\n",
       "      <td>Positivo</td>\n",
       "      <td>0.7650</td>\n",
       "    </tr>\n",
       "  </tbody>\n",
       "</table>\n",
       "</div>"
      ],
      "text/plain": [
       "                                              Tweets     Vader  VD_Polarity\n",
       "0  crazy that  is going to > market cap at the ne...  Negativo      -0.6597\n",
       "1  crazy part is, a lot of what i have been tradi...  Negativo      -0.3400\n",
       "2                              stacking on support..    Neutro       0.0000\n",
       "3                                              lfg!!    Neutro       0.0000\n",
       "4  - twitter been super bullish on this one and t...  Positivo       0.7650"
      ]
     },
     "execution_count": 40,
     "metadata": {},
     "output_type": "execute_result"
    }
   ],
   "source": [
    "df_vader.head(5)"
   ]
  },
  {
   "cell_type": "code",
   "execution_count": 41,
   "metadata": {},
   "outputs": [
    {
     "data": {
      "text/html": [
       "<div>\n",
       "<style scoped>\n",
       "    .dataframe tbody tr th:only-of-type {\n",
       "        vertical-align: middle;\n",
       "    }\n",
       "\n",
       "    .dataframe tbody tr th {\n",
       "        vertical-align: top;\n",
       "    }\n",
       "\n",
       "    .dataframe thead th {\n",
       "        text-align: right;\n",
       "    }\n",
       "</style>\n",
       "<table border=\"1\" class=\"dataframe\">\n",
       "  <thead>\n",
       "    <tr style=\"text-align: right;\">\n",
       "      <th></th>\n",
       "      <th>0</th>\n",
       "      <th>Sentiment</th>\n",
       "    </tr>\n",
       "  </thead>\n",
       "  <tbody>\n",
       "    <tr>\n",
       "      <th>0</th>\n",
       "      <td>crazy that  is going to &gt; market cap at the ne...</td>\n",
       "      <td>Negativo</td>\n",
       "    </tr>\n",
       "    <tr>\n",
       "      <th>1</th>\n",
       "      <td>crazy part is, a lot of what i have been tradi...</td>\n",
       "      <td>Neutro</td>\n",
       "    </tr>\n",
       "    <tr>\n",
       "      <th>2</th>\n",
       "      <td>stacking on support..</td>\n",
       "      <td>Neutro</td>\n",
       "    </tr>\n",
       "    <tr>\n",
       "      <th>3</th>\n",
       "      <td>lfg!!</td>\n",
       "      <td>Negativo</td>\n",
       "    </tr>\n",
       "    <tr>\n",
       "      <th>4</th>\n",
       "      <td>- twitter been super bullish on this one and t...</td>\n",
       "      <td>Positivo</td>\n",
       "    </tr>\n",
       "  </tbody>\n",
       "</table>\n",
       "</div>"
      ],
      "text/plain": [
       "                                                   0 Sentiment\n",
       "0  crazy that  is going to > market cap at the ne...  Negativo\n",
       "1  crazy part is, a lot of what i have been tradi...    Neutro\n",
       "2                              stacking on support..    Neutro\n",
       "3                                              lfg!!  Negativo\n",
       "4  - twitter been super bullish on this one and t...  Positivo"
      ]
     },
     "execution_count": 41,
     "metadata": {},
     "output_type": "execute_result"
    }
   ],
   "source": [
    "df_bert.head(5)"
   ]
  },
  {
   "cell_type": "code",
   "execution_count": 42,
   "metadata": {},
   "outputs": [],
   "source": [
    "df_bert.rename(columns={df_bert.columns[0]: 'Tweets',\n",
    "                    'Sentiment':'BERT'},inplace=True)"
   ]
  },
  {
   "cell_type": "code",
   "execution_count": 43,
   "metadata": {},
   "outputs": [
    {
     "data": {
      "text/html": [
       "<div>\n",
       "<style scoped>\n",
       "    .dataframe tbody tr th:only-of-type {\n",
       "        vertical-align: middle;\n",
       "    }\n",
       "\n",
       "    .dataframe tbody tr th {\n",
       "        vertical-align: top;\n",
       "    }\n",
       "\n",
       "    .dataframe thead th {\n",
       "        text-align: right;\n",
       "    }\n",
       "</style>\n",
       "<table border=\"1\" class=\"dataframe\">\n",
       "  <thead>\n",
       "    <tr style=\"text-align: right;\">\n",
       "      <th></th>\n",
       "      <th>Tweets</th>\n",
       "      <th>BERT</th>\n",
       "    </tr>\n",
       "  </thead>\n",
       "  <tbody>\n",
       "    <tr>\n",
       "      <th>0</th>\n",
       "      <td>crazy that  is going to &gt; market cap at the ne...</td>\n",
       "      <td>Negativo</td>\n",
       "    </tr>\n",
       "    <tr>\n",
       "      <th>1</th>\n",
       "      <td>crazy part is, a lot of what i have been tradi...</td>\n",
       "      <td>Neutro</td>\n",
       "    </tr>\n",
       "    <tr>\n",
       "      <th>2</th>\n",
       "      <td>stacking on support..</td>\n",
       "      <td>Neutro</td>\n",
       "    </tr>\n",
       "    <tr>\n",
       "      <th>3</th>\n",
       "      <td>lfg!!</td>\n",
       "      <td>Negativo</td>\n",
       "    </tr>\n",
       "    <tr>\n",
       "      <th>4</th>\n",
       "      <td>- twitter been super bullish on this one and t...</td>\n",
       "      <td>Positivo</td>\n",
       "    </tr>\n",
       "  </tbody>\n",
       "</table>\n",
       "</div>"
      ],
      "text/plain": [
       "                                              Tweets      BERT\n",
       "0  crazy that  is going to > market cap at the ne...  Negativo\n",
       "1  crazy part is, a lot of what i have been tradi...    Neutro\n",
       "2                              stacking on support..    Neutro\n",
       "3                                              lfg!!  Negativo\n",
       "4  - twitter been super bullish on this one and t...  Positivo"
      ]
     },
     "execution_count": 43,
     "metadata": {},
     "output_type": "execute_result"
    }
   ],
   "source": [
    "df_bert.head(5)"
   ]
  },
  {
   "cell_type": "code",
   "execution_count": 44,
   "metadata": {},
   "outputs": [],
   "source": [
    "df_vader.drop(['Tweets'], axis=1, inplace=True)\n",
    "df_bert.drop(['Tweets'], axis=1, inplace=True)"
   ]
  },
  {
   "cell_type": "code",
   "execution_count": 45,
   "metadata": {},
   "outputs": [],
   "source": [
    "pdList = [df_tblob,df_vader,df_bert ]\n",
    "df_comp = pd.concat((pdList),axis=1)"
   ]
  },
  {
   "cell_type": "code",
   "execution_count": 46,
   "metadata": {},
   "outputs": [],
   "source": [
    "df_comp = df_comp[[\"Tweets\",\"Textblob\",\"Vader\",\"BERT\",\"TB_Polarity\",\"VD_Polarity\"]]"
   ]
  },
  {
   "cell_type": "code",
   "execution_count": 47,
   "metadata": {},
   "outputs": [
    {
     "data": {
      "text/html": [
       "<div>\n",
       "<style scoped>\n",
       "    .dataframe tbody tr th:only-of-type {\n",
       "        vertical-align: middle;\n",
       "    }\n",
       "\n",
       "    .dataframe tbody tr th {\n",
       "        vertical-align: top;\n",
       "    }\n",
       "\n",
       "    .dataframe thead th {\n",
       "        text-align: right;\n",
       "    }\n",
       "</style>\n",
       "<table border=\"1\" class=\"dataframe\">\n",
       "  <thead>\n",
       "    <tr style=\"text-align: right;\">\n",
       "      <th></th>\n",
       "      <th>Tweets</th>\n",
       "      <th>Textblob</th>\n",
       "      <th>Vader</th>\n",
       "      <th>BERT</th>\n",
       "      <th>TB_Polarity</th>\n",
       "      <th>VD_Polarity</th>\n",
       "    </tr>\n",
       "  </thead>\n",
       "  <tbody>\n",
       "    <tr>\n",
       "      <th>0</th>\n",
       "      <td>crazy that  is going to &gt; market cap at the ne...</td>\n",
       "      <td>Positivo</td>\n",
       "      <td>Negativo</td>\n",
       "      <td>Negativo</td>\n",
       "      <td>0.125000</td>\n",
       "      <td>-0.6597</td>\n",
       "    </tr>\n",
       "    <tr>\n",
       "      <th>1</th>\n",
       "      <td>crazy part is, a lot of what i have been tradi...</td>\n",
       "      <td>Negativo</td>\n",
       "      <td>Negativo</td>\n",
       "      <td>Neutro</td>\n",
       "      <td>-0.600000</td>\n",
       "      <td>-0.3400</td>\n",
       "    </tr>\n",
       "    <tr>\n",
       "      <th>2</th>\n",
       "      <td>stacking on support..</td>\n",
       "      <td>Neutro</td>\n",
       "      <td>Neutro</td>\n",
       "      <td>Neutro</td>\n",
       "      <td>0.000000</td>\n",
       "      <td>0.0000</td>\n",
       "    </tr>\n",
       "    <tr>\n",
       "      <th>3</th>\n",
       "      <td>lfg!!</td>\n",
       "      <td>Neutro</td>\n",
       "      <td>Neutro</td>\n",
       "      <td>Negativo</td>\n",
       "      <td>0.000000</td>\n",
       "      <td>0.0000</td>\n",
       "    </tr>\n",
       "    <tr>\n",
       "      <th>4</th>\n",
       "      <td>- twitter been super bullish on this one and t...</td>\n",
       "      <td>Positivo</td>\n",
       "      <td>Positivo</td>\n",
       "      <td>Positivo</td>\n",
       "      <td>0.195833</td>\n",
       "      <td>0.7650</td>\n",
       "    </tr>\n",
       "  </tbody>\n",
       "</table>\n",
       "</div>"
      ],
      "text/plain": [
       "                                              Tweets  Textblob     Vader  \\\n",
       "0  crazy that  is going to > market cap at the ne...  Positivo  Negativo   \n",
       "1  crazy part is, a lot of what i have been tradi...  Negativo  Negativo   \n",
       "2                              stacking on support..    Neutro    Neutro   \n",
       "3                                              lfg!!    Neutro    Neutro   \n",
       "4  - twitter been super bullish on this one and t...  Positivo  Positivo   \n",
       "\n",
       "       BERT  TB_Polarity  VD_Polarity  \n",
       "0  Negativo     0.125000      -0.6597  \n",
       "1    Neutro    -0.600000      -0.3400  \n",
       "2    Neutro     0.000000       0.0000  \n",
       "3  Negativo     0.000000       0.0000  \n",
       "4  Positivo     0.195833       0.7650  "
      ]
     },
     "execution_count": 47,
     "metadata": {},
     "output_type": "execute_result"
    }
   ],
   "source": [
    "df_comp.head(5)"
   ]
  },
  {
   "cell_type": "code",
   "execution_count": 48,
   "metadata": {},
   "outputs": [
    {
     "data": {
      "text/plain": [
       "Textblob\n",
       "Positivo    48.70\n",
       "Neutro      36.75\n",
       "Negativo    14.55\n",
       "Name: proportion, dtype: float64"
      ]
     },
     "execution_count": 48,
     "metadata": {},
     "output_type": "execute_result"
    }
   ],
   "source": [
    "df_comp.Textblob.value_counts(normalize=True)*100"
   ]
  },
  {
   "cell_type": "code",
   "execution_count": 49,
   "metadata": {},
   "outputs": [
    {
     "data": {
      "text/plain": [
       "Vader\n",
       "Positivo    45.40\n",
       "Neutro      40.45\n",
       "Negativo    14.15\n",
       "Name: proportion, dtype: float64"
      ]
     },
     "execution_count": 49,
     "metadata": {},
     "output_type": "execute_result"
    }
   ],
   "source": [
    "df_comp.Vader.value_counts(normalize=True)*100"
   ]
  },
  {
   "cell_type": "code",
   "execution_count": 50,
   "metadata": {},
   "outputs": [
    {
     "data": {
      "text/plain": [
       "BERT\n",
       "Positivo    43.80\n",
       "Negativo    42.45\n",
       "Neutro      13.75\n",
       "Name: proportion, dtype: float64"
      ]
     },
     "execution_count": 50,
     "metadata": {},
     "output_type": "execute_result"
    }
   ],
   "source": [
    "df_comp.BERT.value_counts(normalize=True)*100"
   ]
  },
  {
   "cell_type": "code",
   "execution_count": 61,
   "metadata": {},
   "outputs": [
    {
     "data": {
      "image/png": "[encoded data removed]",
      "text/plain": [
       "<Figure size 640x480 with 1 Axes>"
      ]
     },
     "metadata": {},
     "output_type": "display_data"
    },
    {
     "data": {
      "image/png": "[encoded data removed]",
      "text/plain": [
       "<Figure size 640x480 with 1 Axes>"
      ]
     },
     "metadata": {},
     "output_type": "display_data"
    },
    {
     "data": {
      "image/png": "[encoded data removed]",
      "text/plain": [
       "<Figure size 640x480 with 1 Axes>"
      ]
     },
     "metadata": {},
     "output_type": "display_data"
    }
   ],
   "source": [
    "colors={'Positivo':'mediumspringgreen', \n",
    "        'Neutro':'coral',\n",
    "        'Negativo': 'Red'}\n",
    "\n",
    "plt.figure(0)\n",
    "plt.title('TEXTBLOB')\n",
    "df_comp[\"Textblob\"].value_counts().plot(kind=\"pie\", colors=[colors[v] for v in df_comp['Textblob'].value_counts().keys()])\n",
    "\n",
    "plt.figure(1)\n",
    "plt.title('VADER')\n",
    "df_comp[\"Vader\"].value_counts().plot(kind=\"pie\",colors=[colors[v] for v in df_comp['Vader'].value_counts().keys()])\n",
    "\n",
    "plt.figure(2)\n",
    "plt.title('BERT')\n",
    "df_comp[\"BERT\"].value_counts().plot(kind=\"pie\",colors=[colors[v] for v in df_comp['BERT'].value_counts().keys()])\n",
    "\n",
    "plt.rc('font', size= 8)\n",
    "plt.show() "
   ]
  },
  {
   "cell_type": "code",
   "execution_count": 52,
   "metadata": {},
   "outputs": [
    {
     "data": {
      "image/png": "[encoded data removed]",
      "text/plain": [
       "<Figure size 1000x500 with 1 Axes>"
      ]
     },
     "metadata": {},
     "output_type": "display_data"
    }
   ],
   "source": [
    "data = {'TB Mean Polarity':df_comp[\"TB_Polarity\"].mean(),\n",
    "        'VD Mean Polarity':df_comp[\"VD_Polarity\"].mean(),\n",
    "        'TB Polarity St Dev':df_comp[\"TB_Polarity\"].std(),\n",
    "        'VD Polarity St Dev':df_comp[\"VD_Polarity\"].std()}\n",
    "\n",
    "stats = list(data.keys())\n",
    "values = list(data.values())\n",
    "  \n",
    "fig = plt.figure(figsize = (10, 5))\n",
    "\n",
    "plt.rc('font', size= 8) \n",
    " \n",
    "plt.bar(stats, values, color ='green',\n",
    "        width = 0.4)\n",
    " \n",
    "plt.show()"
   ]
  },
  {
   "cell_type": "code",
   "execution_count": 53,
   "metadata": {},
   "outputs": [
    {
     "data": {
      "image/png": "[encoded data removed]",
      "text/plain": [
       "<Figure size 640x480 with 1 Axes>"
      ]
     },
     "metadata": {},
     "output_type": "display_data"
    }
   ],
   "source": [
    "venn3(subsets=(df_comp[(df_comp.Textblob == \"Positivo\") & (df_comp.Vader  != \"Positivo\") & (df_comp.BERT  != \"Positivo\")].shape[0],\n",
    "               df_comp[(df_comp.Textblob != \"Positivo\") & (df_comp.Vader  == \"Positivo\") & (df_comp.BERT  != \"Positivo\")].shape[0],\n",
    "               df_comp[(df_comp.Textblob == \"Positivo\") & (df_comp.Vader  == \"Positivo\") & (df_comp.BERT  != \"Positivo\")].shape[0],\n",
    "               df_comp[(df_comp.Textblob != \"Positivo\") & (df_comp.Vader  != \"Positivo\") & (df_comp.BERT  == \"Positivo\")].shape[0],\n",
    "               df_comp[(df_comp.Textblob == \"Positivo\") & (df_comp.Vader  != \"Positivo\") & (df_comp.BERT  == \"Positivo\")].shape[0],\n",
    "               df_comp[(df_comp.Textblob != \"Positivo\") & (df_comp.Vader  == \"Positivo\") & (df_comp.BERT  == \"Positivo\")].shape[0],\n",
    "               df_comp[(df_comp.Textblob == \"Positivo\") & (df_comp.Vader  == \"Positivo\") & (df_comp.BERT  == \"Positivo\")].shape[0]), \n",
    "      set_labels=('TextBlob', 'Vader', 'BERT'), \n",
    "      set_colors=(\"orange\", \"blue\", \"red\"), alpha=0.7)\n",
    "\n",
    "venn3_circles(subsets=(df_comp[(df_comp.Textblob == \"Positivo\") & (df_comp.Vader  != \"Positivo\") & (df_comp.BERT  != \"Positivo\")].shape[0],\n",
    "               df_comp[(df_comp.Textblob != \"Positivo\") & (df_comp.Vader  == \"Positivo\") & (df_comp.BERT  != \"Positivo\")].shape[0],\n",
    "               df_comp[(df_comp.Textblob == \"Positivo\") & (df_comp.Vader  == \"Positivo\") & (df_comp.BERT  != \"Positivo\")].shape[0],\n",
    "               df_comp[(df_comp.Textblob != \"Positivo\") & (df_comp.Vader  != \"Positivo\") & (df_comp.BERT  == \"Positivo\")].shape[0],\n",
    "               df_comp[(df_comp.Textblob == \"Positivo\") & (df_comp.Vader  != \"Positivo\") & (df_comp.BERT  == \"Positivo\")].shape[0],\n",
    "               df_comp[(df_comp.Textblob != \"Positivo\") & (df_comp.Vader  == \"Positivo\") & (df_comp.BERT  == \"Positivo\")].shape[0],\n",
    "               df_comp[(df_comp.Textblob == \"Positivo\") & (df_comp.Vader  == \"Positivo\") & (df_comp.BERT  == \"Positivo\")].shape[0]),\n",
    "              linestyle=\"dashed\", linewidth=2)\n",
    "\n",
    "plt.title(\"Labels Positivos\")\n",
    "\n",
    "plt.rc('font', size= 3) \n",
    "\n",
    "plt.show()"
   ]
  },
  {
   "cell_type": "code",
   "execution_count": 60,
   "metadata": {},
   "outputs": [
    {
     "data": {
      "image/png": "[encoded data removed]",
      "text/plain": [
       "<Figure size 640x480 with 1 Axes>"
      ]
     },
     "metadata": {},
     "output_type": "display_data"
    }
   ],
   "source": [
    "venn3(subsets=(df_comp[(df_comp.Textblob == \"Negativo\") & (df_comp.Vader  != \"Negativo\") & (df_comp.BERT  != \"Negativo\")].shape[0],\n",
    "               df_comp[(df_comp.Textblob != \"Negativo\") & (df_comp.Vader  == \"Negativo\") & (df_comp.BERT  != \"Negativo\")].shape[0],\n",
    "               df_comp[(df_comp.Textblob == \"Negativo\") & (df_comp.Vader  == \"Negativo\") & (df_comp.BERT  != \"Negativo\")].shape[0],\n",
    "               df_comp[(df_comp.Textblob != \"Negativo\") & (df_comp.Vader  != \"Negativo\") & (df_comp.BERT  == \"Negativo\")].shape[0],\n",
    "               df_comp[(df_comp.Textblob == \"Negativo\") & (df_comp.Vader  != \"Negativo\") & (df_comp.BERT  == \"Negativo\")].shape[0],\n",
    "               df_comp[(df_comp.Textblob != \"Negativo\") & (df_comp.Vader  == \"Negativo\") & (df_comp.BERT  == \"Negativo\")].shape[0],\n",
    "               df_comp[(df_comp.Textblob == \"Negativo\") & (df_comp.Vader  == \"Negativo\") & (df_comp.BERT  == \"Negativo\")].shape[0]), \n",
    "      set_labels=('TextBlob', 'Vader', 'BERT'), \n",
    "      set_colors=(\"orange\", \"blue\", \"red\"), alpha=0.7)\n",
    "\n",
    "venn3_circles(subsets=(df_comp[(df_comp.Textblob == \"Negativo\") & (df_comp.Vader  != \"Negativo\") & (df_comp.BERT  != \"Negativo\")].shape[0],\n",
    "               df_comp[(df_comp.Textblob != \"Negativo\") & (df_comp.Vader  == \"Negativo\") & (df_comp.BERT  != \"Negativo\")].shape[0],\n",
    "               df_comp[(df_comp.Textblob == \"Negativo\") & (df_comp.Vader  == \"Negativo\") & (df_comp.BERT  != \"Negativo\")].shape[0],\n",
    "               df_comp[(df_comp.Textblob != \"Negativo\") & (df_comp.Vader  != \"Negativo\") & (df_comp.BERT  == \"Negativo\")].shape[0],\n",
    "               df_comp[(df_comp.Textblob == \"Negativo\") & (df_comp.Vader  != \"Negativo\") & (df_comp.BERT  == \"Negativo\")].shape[0],\n",
    "               df_comp[(df_comp.Textblob != \"Negativo\") & (df_comp.Vader  == \"Negativo\") & (df_comp.BERT  == \"Negativo\")].shape[0],\n",
    "               df_comp[(df_comp.Textblob == \"Negativo\") & (df_comp.Vader  == \"Negativo\") & (df_comp.BERT  == \"Negativo\")].shape[0]),\n",
    "              linestyle=\"dashed\", linewidth=2)\n",
    "\n",
    "plt.title(\"Labels Negativos\")\n",
    "\n",
    "plt.rc('font', size= 8) \n",
    "\n",
    "plt.show()"
   ]
  },
  {
   "cell_type": "code",
   "execution_count": 55,
   "metadata": {},
   "outputs": [
    {
     "data": {
      "text/html": [
       "<div>\n",
       "<style scoped>\n",
       "    .dataframe tbody tr th:only-of-type {\n",
       "        vertical-align: middle;\n",
       "    }\n",
       "\n",
       "    .dataframe tbody tr th {\n",
       "        vertical-align: top;\n",
       "    }\n",
       "\n",
       "    .dataframe thead th {\n",
       "        text-align: right;\n",
       "    }\n",
       "</style>\n",
       "<table border=\"1\" class=\"dataframe\">\n",
       "  <thead>\n",
       "    <tr style=\"text-align: right;\">\n",
       "      <th></th>\n",
       "      <th>Tweets</th>\n",
       "      <th>Textblob</th>\n",
       "      <th>Vader</th>\n",
       "      <th>BERT</th>\n",
       "      <th>TB_Polarity</th>\n",
       "      <th>VD_Polarity</th>\n",
       "    </tr>\n",
       "  </thead>\n",
       "  <tbody>\n",
       "    <tr>\n",
       "      <th>1897</th>\n",
       "      <td>testing weekly resistance for the 4th time👀</td>\n",
       "      <td>Neutro</td>\n",
       "      <td>Neutro</td>\n",
       "      <td>Positivo</td>\n",
       "      <td>0.000000</td>\n",
       "      <td>0.0000</td>\n",
       "    </tr>\n",
       "    <tr>\n",
       "      <th>579</th>\n",
       "      <td>you ask me about i will only take action if he...</td>\n",
       "      <td>Negativo</td>\n",
       "      <td>Negativo</td>\n",
       "      <td>Negativo</td>\n",
       "      <td>-0.018519</td>\n",
       "      <td>-0.2960</td>\n",
       "    </tr>\n",
       "    <tr>\n",
       "      <th>1024</th>\n",
       "      <td>1hr</td>\n",
       "      <td>Neutro</td>\n",
       "      <td>Neutro</td>\n",
       "      <td>Positivo</td>\n",
       "      <td>0.000000</td>\n",
       "      <td>0.0000</td>\n",
       "    </tr>\n",
       "    <tr>\n",
       "      <th>949</th>\n",
       "      <td>starting to like real nice here, i added a lon...</td>\n",
       "      <td>Positivo</td>\n",
       "      <td>Positivo</td>\n",
       "      <td>Positivo</td>\n",
       "      <td>0.212500</td>\n",
       "      <td>0.6486</td>\n",
       "    </tr>\n",
       "    <tr>\n",
       "      <th>661</th>\n",
       "      <td>: 1/1  ninjaverse nft giveaway to one lucky wi...</td>\n",
       "      <td>Negativo</td>\n",
       "      <td>Positivo</td>\n",
       "      <td>Negativo</td>\n",
       "      <td>-0.241667</td>\n",
       "      <td>0.5719</td>\n",
       "    </tr>\n",
       "    <tr>\n",
       "      <th>1452</th>\n",
       "      <td>plan</td>\n",
       "      <td>Neutro</td>\n",
       "      <td>Neutro</td>\n",
       "      <td>Positivo</td>\n",
       "      <td>0.000000</td>\n",
       "      <td>0.0000</td>\n",
       "    </tr>\n",
       "    <tr>\n",
       "      <th>451</th>\n",
       "      <td>screening some #gamefi tokens again let  look ...</td>\n",
       "      <td>Neutro</td>\n",
       "      <td>Positivo</td>\n",
       "      <td>Negativo</td>\n",
       "      <td>0.000000</td>\n",
       "      <td>0.4019</td>\n",
       "    </tr>\n",
       "    <tr>\n",
       "      <th>378</th>\n",
       "      <td>#bitcoin / now run it to</td>\n",
       "      <td>Neutro</td>\n",
       "      <td>Neutro</td>\n",
       "      <td>Negativo</td>\n",
       "      <td>0.000000</td>\n",
       "      <td>0.0000</td>\n",
       "    </tr>\n",
       "    <tr>\n",
       "      <th>296</th>\n",
       "      <td>has not been doing much the past couple of wee...</td>\n",
       "      <td>Positivo</td>\n",
       "      <td>Positivo</td>\n",
       "      <td>Neutro</td>\n",
       "      <td>0.045833</td>\n",
       "      <td>0.6597</td>\n",
       "    </tr>\n",
       "    <tr>\n",
       "      <th>1767</th>\n",
       "      <td>this is what happens when you brag about a 3 m...</td>\n",
       "      <td>Positivo</td>\n",
       "      <td>Positivo</td>\n",
       "      <td>Negativo</td>\n",
       "      <td>0.125000</td>\n",
       "      <td>0.3400</td>\n",
       "    </tr>\n",
       "    <tr>\n",
       "      <th>580</th>\n",
       "      <td>really annoying that ,000 in  from any point o...</td>\n",
       "      <td>Negativo</td>\n",
       "      <td>Negativo</td>\n",
       "      <td>Negativo</td>\n",
       "      <td>-0.250000</td>\n",
       "      <td>-0.2716</td>\n",
       "    </tr>\n",
       "    <tr>\n",
       "      <th>145</th>\n",
       "      <td>i have accumulated 6 figs of .i'm so ready.btw...</td>\n",
       "      <td>Negativo</td>\n",
       "      <td>Positivo</td>\n",
       "      <td>Positivo</td>\n",
       "      <td>-0.083333</td>\n",
       "      <td>0.2732</td>\n",
       "    </tr>\n",
       "    <tr>\n",
       "      <th>442</th>\n",
       "      <td>#bitcoinhas been above 4h 22ema (red line) sup...</td>\n",
       "      <td>Negativo</td>\n",
       "      <td>Positivo</td>\n",
       "      <td>Negativo</td>\n",
       "      <td>-0.012500</td>\n",
       "      <td>0.4019</td>\n",
       "    </tr>\n",
       "    <tr>\n",
       "      <th>863</th>\n",
       "      <td>#rats looks good for long again&gt; [](&gt; focus on...</td>\n",
       "      <td>Positivo</td>\n",
       "      <td>Positivo</td>\n",
       "      <td>Positivo</td>\n",
       "      <td>0.262121</td>\n",
       "      <td>0.4404</td>\n",
       "    </tr>\n",
       "    <tr>\n",
       "      <th>1243</th>\n",
       "      <td>#bitcoin perpetual premium has come down a bit...</td>\n",
       "      <td>Positivo</td>\n",
       "      <td>Positivo</td>\n",
       "      <td>Positivo</td>\n",
       "      <td>0.348148</td>\n",
       "      <td>0.7003</td>\n",
       "    </tr>\n",
       "    <tr>\n",
       "      <th>307</th>\n",
       "      <td>#bitcoin i did not share about the cme open/cl...</td>\n",
       "      <td>Positivo</td>\n",
       "      <td>Positivo</td>\n",
       "      <td>Negativo</td>\n",
       "      <td>0.038194</td>\n",
       "      <td>0.3425</td>\n",
       "    </tr>\n",
       "    <tr>\n",
       "      <th>1045</th>\n",
       "      <td>i have not  seen this since the bull market in...</td>\n",
       "      <td>Neutro</td>\n",
       "      <td>Neutro</td>\n",
       "      <td>Negativo</td>\n",
       "      <td>0.000000</td>\n",
       "      <td>0.0000</td>\n",
       "    </tr>\n",
       "    <tr>\n",
       "      <th>1946</th>\n",
       "      <td>:  daily chart breakout / retest scenario inve...</td>\n",
       "      <td>Neutro</td>\n",
       "      <td>Neutro</td>\n",
       "      <td>Negativo</td>\n",
       "      <td>0.000000</td>\n",
       "      <td>0.0000</td>\n",
       "    </tr>\n",
       "    <tr>\n",
       "      <th>1710</th>\n",
       "      <td>: thanks to one and only  we happily joined  🥷...</td>\n",
       "      <td>Positivo</td>\n",
       "      <td>Positivo</td>\n",
       "      <td>Negativo</td>\n",
       "      <td>0.333333</td>\n",
       "      <td>0.8402</td>\n",
       "    </tr>\n",
       "    <tr>\n",
       "      <th>1408</th>\n",
       "      <td>🤝&gt; [](&gt; 💚   x  &gt; &gt; you can now provide  liquid...</td>\n",
       "      <td>Neutro</td>\n",
       "      <td>Neutro</td>\n",
       "      <td>Negativo</td>\n",
       "      <td>0.000000</td>\n",
       "      <td>0.0000</td>\n",
       "    </tr>\n",
       "  </tbody>\n",
       "</table>\n",
       "</div>"
      ],
      "text/plain": [
       "                                                 Tweets  Textblob     Vader  \\\n",
       "1897        testing weekly resistance for the 4th time👀    Neutro    Neutro   \n",
       "579   you ask me about i will only take action if he...  Negativo  Negativo   \n",
       "1024                                                1hr    Neutro    Neutro   \n",
       "949   starting to like real nice here, i added a lon...  Positivo  Positivo   \n",
       "661   : 1/1  ninjaverse nft giveaway to one lucky wi...  Negativo  Positivo   \n",
       "1452                                               plan    Neutro    Neutro   \n",
       "451   screening some #gamefi tokens again let  look ...    Neutro  Positivo   \n",
       "378                            #bitcoin / now run it to    Neutro    Neutro   \n",
       "296   has not been doing much the past couple of wee...  Positivo  Positivo   \n",
       "1767  this is what happens when you brag about a 3 m...  Positivo  Positivo   \n",
       "580   really annoying that ,000 in  from any point o...  Negativo  Negativo   \n",
       "145   i have accumulated 6 figs of .i'm so ready.btw...  Negativo  Positivo   \n",
       "442   #bitcoinhas been above 4h 22ema (red line) sup...  Negativo  Positivo   \n",
       "863   #rats looks good for long again> [](> focus on...  Positivo  Positivo   \n",
       "1243  #bitcoin perpetual premium has come down a bit...  Positivo  Positivo   \n",
       "307   #bitcoin i did not share about the cme open/cl...  Positivo  Positivo   \n",
       "1045  i have not  seen this since the bull market in...    Neutro    Neutro   \n",
       "1946  :  daily chart breakout / retest scenario inve...    Neutro    Neutro   \n",
       "1710  : thanks to one and only  we happily joined  🥷...  Positivo  Positivo   \n",
       "1408  🤝> [](> 💚   x  > > you can now provide  liquid...    Neutro    Neutro   \n",
       "\n",
       "          BERT  TB_Polarity  VD_Polarity  \n",
       "1897  Positivo     0.000000       0.0000  \n",
       "579   Negativo    -0.018519      -0.2960  \n",
       "1024  Positivo     0.000000       0.0000  \n",
       "949   Positivo     0.212500       0.6486  \n",
       "661   Negativo    -0.241667       0.5719  \n",
       "1452  Positivo     0.000000       0.0000  \n",
       "451   Negativo     0.000000       0.4019  \n",
       "378   Negativo     0.000000       0.0000  \n",
       "296     Neutro     0.045833       0.6597  \n",
       "1767  Negativo     0.125000       0.3400  \n",
       "580   Negativo    -0.250000      -0.2716  \n",
       "145   Positivo    -0.083333       0.2732  \n",
       "442   Negativo    -0.012500       0.4019  \n",
       "863   Positivo     0.262121       0.4404  \n",
       "1243  Positivo     0.348148       0.7003  \n",
       "307   Negativo     0.038194       0.3425  \n",
       "1045  Negativo     0.000000       0.0000  \n",
       "1946  Negativo     0.000000       0.0000  \n",
       "1710  Negativo     0.333333       0.8402  \n",
       "1408  Negativo     0.000000       0.0000  "
      ]
     },
     "execution_count": 55,
     "metadata": {},
     "output_type": "execute_result"
    }
   ],
   "source": [
    "df_sample = df_comp.sample(n = 20)\n",
    "df_sample"
   ]
  }
 ],
 "metadata": {
  "kernelspec": {
   "display_name": "Python 3",
   "language": "python",
   "name": "python3"
  },
  "language_info": {
   "codemirror_mode": {
    "name": "ipython",
    "version": 3
   },
   "file_extension": ".py",
   "mimetype": "text/x-python",
   "name": "python",
   "nbconvert_exporter": "python",
   "pygments_lexer": "ipython3",
   "version": "3.11.5"
  }
 },
 "nbformat": 4,
 "nbformat_minor": 2
}
