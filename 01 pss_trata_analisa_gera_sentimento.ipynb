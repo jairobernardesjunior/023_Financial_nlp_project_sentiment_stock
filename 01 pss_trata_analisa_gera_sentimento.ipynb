{
 "cells": [
  {
   "cell_type": "markdown",
   "metadata": {},
   "source": [
    "## Project sentiment stock\n",
    "\n",
    "### Objective:\n",
    "- In this project, we will perform a sentiment analysis of data published on X (Twitter), in real time, relating to stock market quotes. This analysis can be passed on to our investors, through sentiment percentages, whether the messages about the quotes present a positive or negative trend for the subject in question.\n",
    "\n",
    "- Nesse projeto vamos fazer uma análise de sentimento de dados publicados no X (twitter), em tempo real, relativo às cotações da bolsa de valores. Essa análise vai poder passar para nossos investidores, através dos percentuais de sentimento, se as postagens sobre as cotações, apresentam uma tendência positiva ou negativa para o assunto tratado.\n",
    "\n",
    "### Data Origin:\n",
    "- Dataset: financial_tweets.csv\n",
    "\n",
    "- This file was acquired by capturing tweets from users who made publications within the subject discussed here, expressing their feelings about stock market quotes in real time. The data is intercepted through an API provided by X (twitter) and saved in a .csv file.\n",
    "\n",
    "- Esse arquivo foi adquirido através da captura de tweets dos usuários que fizeram publicações dentro do assunto aqui tratado, expressando seus sentimentos sobre cotações da bolsa em tempo real. Os dados são interceptados através de API fornecida pelo X (twitter) e gravados em arquivo .csv.\n",
    "\n",
    "Aqui o que nos interessa é somente o campo:\n",
    "- Description: descrição do sentimento publicado pelo usuário."
   ]
  },
  {
   "cell_type": "markdown",
   "metadata": {},
   "source": [
    "- ## Análise exploratória dos dados\n",
    "- ## Preparação dos dados\n",
    "- ## Armazenamento dos dados tratados\n",
    "- ## Geração de sentimento\n",
    "    - textblob\n",
    "    - vader\n",
    "    - bert"
   ]
  },
  {
   "cell_type": "code",
   "execution_count": 2,
   "metadata": {},
   "outputs": [],
   "source": [
    "# maximiza nro de linhas e colunas para exibição\n",
    "# inibe mensagens de warning\n",
    "import pandas as pd\n",
    "pd.set_option('display.max_rows', None) # permite a máxima visualização das linhas em um display\n",
    "pd.set_option('display.max_columns', None) # permite a máxima visualização das colunas em um display\n",
    "import warnings\n",
    "warnings.simplefilter('ignore') # inibe a exibição de avisos de warning"
   ]
  },
  {
   "cell_type": "code",
   "execution_count": null,
   "metadata": {},
   "outputs": [
    {
     "name": "stderr",
     "output_type": "stream",
     "text": [
      "[nltk_data] Downloading package vader_lexicon to\n",
      "[nltk_data]     C:\\Users\\KR\\AppData\\Roaming\\nltk_data...\n",
      "[nltk_data]   Package vader_lexicon is already up-to-date!\n"
     ]
    }
   ],
   "source": [
    "# bibliotecas\n",
    "import tweepy as tw # coleta Tweets em tempo real, permitindo que os desenvolvedores especifiquem filtros para buscar informações específicas.\n",
    "import numpy as np # computação de matrizes\n",
    "\n",
    "import re # realiza operações com expressões regulares, permitindo correspondência de padrões em strings.\n",
    "import string # manipulação de strings, como a classe Template que implementa regras específicas para formatação.\n",
    "from nltk.corpus import stopwords # possui uma lista de stopwords armazenada em 16 idiomas diferentes, facilitando a remoção de palavras irrelevantes em análises de texto.\n",
    "from nltk.stem import PorterStemmer # algoritmo de stemming que remove afixos morfológicos de palavras, deixando apenas a raiz da palavra.\n",
    "from nltk.tokenize import TweetTokenizer # ferramenta projetada para dividir textos de redes sociais em tokens relevantes, especialmente preparada para lidar com a linguagem e abreviações comuns do Twitter.\n",
    "\n",
    "from textblob import TextBlob # biblioteca Python voltada para o processamento de dados textuais, oferecendo uma API simples para tarefas comuns de processamento de linguagem natural (NLP).\n",
    "\n",
    "import nltk # biblioteca em Python projetada para o processamento de linguagem natural (NLP). Ela oferece diversas ferramentas e recursos para facilitar a análise e manipulação de textos.\n",
    "nltk.download('vader_lexicon') # abre uma interface que permite selecionar e baixar corpora, modelos e outros pacotes de dados específicos.\n",
    "\n",
    "from nltk.sentiment.vader import SentimentIntensityAnalyzer # ferramenta de análise de sentimentos desenvolvida pela biblioteca NLTK, que utiliza um modelo baseado em regras para classificar textos informais em sentimentos positivos, negativos ou neutros.\n",
    "\n",
    "from transformers import AutoModelForSequenceClassification # classe que fornece uma maneira rápida de ajustar um modelo de linguagem pré-treinado para uma tarefa de classificação de texto.\n",
    "from transformers import AutoTokenizer # classe genérica de tokenização que é instanciada como uma das classes de tokenização da biblioteca quando criada com AutoTokenizer.from_pretrained().\n",
    "import torch # framework de computação científica com suporte extensivo para algoritmos de aprendizado de máquina.\n",
    "             # realizar cálculos numéricos de forma eficiente, especialmente operações com matrizes e tensores.\n",
    "\n",
    "import tensorflow as tf # frameworks de aprendizado de máquina mais populares e amplamente utilizados no mundo."
   ]
  },
  {
   "cell_type": "code",
   "execution_count": null,
   "metadata": {},
   "outputs": [],
   "source": [
    "# chave e token definidas e associadas ao app criado no X (twitter) para captura de tweets com API\n",
    "# https://developer.x.com/en/portal/dashboard\n",
    "# as chaves e tokens abaixo são simbólicas devendo ser geradas por um usuário do X\n",
    "consumer_key = 'bokA1eIxmcK5y396klmyThyxE'\n",
    "consumer_secret = 'kpI1wT4So74kl6OVbv10rMUk5xkPNJZhkCCPScf5cyzHjLCJ62'\n",
    "access_token = '2689849668-kaDvfg15xpeF4a1D6pL9ck1EnYTQhBjGklcS77S'\n",
    "access_token_secret = 'zPdg70A5cnkmmXmuvM62TlkxoHl4IHJGpGfD3c5stfday'"
   ]
  },
  {
   "cell_type": "code",
   "execution_count": null,
   "metadata": {},
   "outputs": [],
   "source": [
    "# cria uma variável(instância) para autenticação no X(twitter)\n",
    "autorizacao = tw.OAuthHandler(consumer_key, consumer_secret)"
   ]
  },
  {
   "cell_type": "code",
   "execution_count": null,
   "metadata": {},
   "outputs": [],
   "source": [
    "# autenticação para autorização do acesso à API do X (twitter)\n",
    "autorizacao.set_access_token(access_token, access_token_secret)"
   ]
  },
  {
   "cell_type": "code",
   "execution_count": null,
   "metadata": {},
   "outputs": [],
   "source": [
    "# cria uma variável instanciando a api do twitter com a autenticação feita anteriormente\n",
    "api = tw.API(autorizacao)"
   ]
  },
  {
   "cell_type": "code",
   "execution_count": null,
   "metadata": {},
   "outputs": [],
   "source": [
    "# retorna uma coleção dos Tweets e Retweets mais recentes postados pelo usuário autenticado e pelos usuários que ele segue.\n",
    "meus_tweets = api.home_timeline()"
   ]
  },
  {
   "cell_type": "code",
   "execution_count": null,
   "metadata": {},
   "outputs": [],
   "source": [
    "# exibe os tweets capturados\n",
    "for twitters in meus_tweets:\n",
    "    print(twitters.created_at)\n",
    "    print(twitters.text,  '\\n')"
   ]
  },
  {
   "cell_type": "code",
   "execution_count": null,
   "metadata": {},
   "outputs": [],
   "source": [
    "# filtra somente os tweets necessários\n",
    "query = \"bitcoin AND price\"\n",
    "pesquisa = api.search(q=query,lang='en',tweet_mode=\"extended\",count=50)"
   ]
  },
  {
   "cell_type": "code",
   "execution_count": null,
   "metadata": {},
   "outputs": [],
   "source": [
    "# cria lista de tweets a partir da pesquisa\n",
    "resultado = []\n",
    "\n",
    "for twitters in pesquisa:\n",
    "  resultado.append(twitters.created_at)\n",
    "  resultado.append(twitters.full_text)"
   ]
  },
  {
   "cell_type": "code",
   "execution_count": null,
   "metadata": {},
   "outputs": [],
   "source": [
    "# cria matriz com a lista de tweets\n",
    "matriz_np = np.array(resultado)\n",
    "matriz_ajustada = np.reshape(matriz_np, (50,2))"
   ]
  },
  {
   "cell_type": "code",
   "execution_count": null,
   "metadata": {},
   "outputs": [],
   "source": [
    "# cria um dataframe a partir da matriz_ajustada\n",
    "df = pd.DataFrame()\n",
    "\n",
    "colunas = [\n",
    "    'Data_publicacao',\n",
    "    'tweet'\n",
    "]\n",
    "\n",
    "df = pd.DataFrame(matriz_ajustada,columns=colunas)"
   ]
  },
  {
   "cell_type": "code",
   "execution_count": null,
   "metadata": {},
   "outputs": [],
   "source": [
    "# salva o dataframe com tweets em arquivo .csv\n",
    "arquivo_tweets = 'dataset/financial_tweets.csv'\n",
    "df.to_csv(arquivo_tweets, encoding='utf-8', index=False,quotechar='|')"
   ]
  },
  {
   "cell_type": "code",
   "execution_count": null,
   "metadata": {},
   "outputs": [],
   "source": [
    "# carregando arquivo tratado em dataframe para não repetir a captura de tweets\n",
    "df_sentiment = pd.read_csv('dataset/financial_tweets.csv', sep=',')"
   ]
  },
  {
   "cell_type": "code",
   "execution_count": null,
   "metadata": {},
   "outputs": [],
   "source": [
    "# cria o dataframe df\n",
    "df = df_sentiment"
   ]
  },
  {
   "cell_type": "code",
   "execution_count": null,
   "metadata": {},
   "outputs": [],
   "source": [
    "# seleciona somente parte dos tweets\n",
    "df = df[:2000]"
   ]
  },
  {
   "cell_type": "code",
   "execution_count": null,
   "metadata": {},
   "outputs": [
    {
     "data": {
      "text/plain": [
       "(2000, 13)"
      ]
     },
     "execution_count": 7,
     "metadata": {},
     "output_type": "execute_result"
    }
   ],
   "source": [
    "# verifica quantidade de linhas e colunas(variáveis) do dataframe\n",
    "df.shape"
   ]
  },
  {
   "cell_type": "code",
   "execution_count": null,
   "metadata": {},
   "outputs": [],
   "source": [
    "# selecionando somente a coluna descrição ou texto do twitter.\n",
    "df = df['description']"
   ]
  },
  {
   "cell_type": "code",
   "execution_count": null,
   "metadata": {},
   "outputs": [
    {
     "data": {
      "text/plain": [
       "0    Crazy that $PRIME is going to >$1B market cap ...\n",
       "1    Crazy part is, a lot of what I have been tradi...\n",
       "2                       $AVAX\\n\\nStacking on support..\n",
       "3                                        $SOL\\n\\nLFG!!\n",
       "4    $INJ - Twitter been super bullish on this one ...\n",
       "Name: description, dtype: object"
      ]
     },
     "execution_count": 9,
     "metadata": {},
     "output_type": "execute_result"
    }
   ],
   "source": [
    "# verificando as primeiras linhas\n",
    "df.head(5)"
   ]
  },
  {
   "cell_type": "code",
   "execution_count": null,
   "metadata": {},
   "outputs": [],
   "source": [
    "# cria variável de stopwords em inglês\n",
    "# cria variável de caracteres de pontuação padrão\n",
    "english_stopwords = stopwords.words(\"english\")\n",
    "punctuation_words = string.punctuation"
   ]
  },
  {
   "cell_type": "code",
   "execution_count": null,
   "metadata": {},
   "outputs": [],
   "source": [
    "# cria uma lista de tweets a partir do dataframe\n",
    "tweet_list = df.tolist()"
   ]
  },
  {
   "cell_type": "code",
   "execution_count": null,
   "metadata": {},
   "outputs": [],
   "source": [
    "# substitui ocorrências de um padrão especificado por uma nova string dentro da descriçaõ do tweet\n",
    "clean_tweets = []\n",
    "\n",
    "for tweet in tweet_list:\n",
    "    \n",
    "    tweet = str(tweet) \n",
    "\n",
    "    tweet = re.sub(r'^RT[\\s]+', '', tweet)\n",
    "    tweet = re.sub(r'\\$\\w*', '', tweet)\n",
    "    tweet = re.sub(r'$', '', tweet)\n",
    "    tweet = re.sub(r'https?://[^\\s\\n\\r]+', '', tweet)\n",
    "    tweet = re.sub(r'https?://[A-Za-z0-9./]+','',tweet)\n",
    "    tweet = re.sub(r'https//[A-Za-z0-9./]+','',tweet)\n",
    "    tweet = tweet.replace(\"\\n\",\"\")\n",
    "    tweet = re.sub('@[\\w]+', '', tweet)\n",
    "\n",
    "    tweet = re.sub(r\"n't\", \" not \", tweet)\n",
    "    tweet = re.sub(r\"\\'s\", \" \", tweet)\n",
    "    tweet = re.sub(r\"\\'ve\", \" have \", tweet)\n",
    "    tweet = re.sub(r\"\\'re\", \" are \", tweet)\n",
    "    tweet = re.sub(r\"\\'d\", \" would \", tweet)\n",
    "    tweet = re.sub(r\"\\'ll\", \" will \", tweet) \n",
    "\n",
    "    tweet = tweet.lower()\n",
    "    tweet = tweet.strip()\n",
    "\n",
    "    clean_tweets.append(tweet)"
   ]
  },
  {
   "cell_type": "code",
   "execution_count": null,
   "metadata": {},
   "outputs": [
    {
     "data": {
      "text/plain": [
       "['crazy that  is going to > market cap at the next cycle top as the “  of this cycle” and you still don’t own any anon. -100 exit or bust bitch.',\n",
       " 'crazy part is, a lot of what i have been trading is still up..',\n",
       " 'stacking on support..',\n",
       " 'lfg!!']"
      ]
     },
     "execution_count": 13,
     "metadata": {},
     "output_type": "execute_result"
    }
   ],
   "source": [
    "# exibe algumas descrições modificadas\n",
    "clean_tweets[:4]"
   ]
  },
  {
   "cell_type": "code",
   "execution_count": null,
   "metadata": {},
   "outputs": [],
   "source": [
    "# converte a lista de tweets em dataframe\n",
    "df = pd.DataFrame(clean_tweets)"
   ]
  },
  {
   "cell_type": "code",
   "execution_count": null,
   "metadata": {},
   "outputs": [
    {
     "data": {
      "text/html": [
       "<div>\n",
       "<style scoped>\n",
       "    .dataframe tbody tr th:only-of-type {\n",
       "        vertical-align: middle;\n",
       "    }\n",
       "\n",
       "    .dataframe tbody tr th {\n",
       "        vertical-align: top;\n",
       "    }\n",
       "\n",
       "    .dataframe thead th {\n",
       "        text-align: right;\n",
       "    }\n",
       "</style>\n",
       "<table border=\"1\" class=\"dataframe\">\n",
       "  <thead>\n",
       "    <tr style=\"text-align: right;\">\n",
       "      <th></th>\n",
       "      <th>0</th>\n",
       "    </tr>\n",
       "  </thead>\n",
       "  <tbody>\n",
       "    <tr>\n",
       "      <th>0</th>\n",
       "      <td>crazy that  is going to &gt; market cap at the ne...</td>\n",
       "    </tr>\n",
       "    <tr>\n",
       "      <th>1</th>\n",
       "      <td>crazy part is, a lot of what i have been tradi...</td>\n",
       "    </tr>\n",
       "    <tr>\n",
       "      <th>2</th>\n",
       "      <td>stacking on support..</td>\n",
       "    </tr>\n",
       "    <tr>\n",
       "      <th>3</th>\n",
       "      <td>lfg!!</td>\n",
       "    </tr>\n",
       "    <tr>\n",
       "      <th>4</th>\n",
       "      <td>- twitter been super bullish on this one and t...</td>\n",
       "    </tr>\n",
       "  </tbody>\n",
       "</table>\n",
       "</div>"
      ],
      "text/plain": [
       "                                                   0\n",
       "0  crazy that  is going to > market cap at the ne...\n",
       "1  crazy part is, a lot of what i have been tradi...\n",
       "2                              stacking on support..\n",
       "3                                              lfg!!\n",
       "4  - twitter been super bullish on this one and t..."
      ]
     },
     "execution_count": 15,
     "metadata": {},
     "output_type": "execute_result"
    }
   ],
   "source": [
    "# verifica as primeiras linhas do dataframe\n",
    "df.head(5)"
   ]
  },
  {
   "cell_type": "code",
   "execution_count": null,
   "metadata": {},
   "outputs": [],
   "source": [
    "# cria novo dataframe\n",
    "df_tblob = df.copy()"
   ]
  },
  {
   "cell_type": "code",
   "execution_count": null,
   "metadata": {},
   "outputs": [],
   "source": [
    "# cria novo dataframe\n",
    "df_vader = df.copy()"
   ]
  },
  {
   "cell_type": "code",
   "execution_count": null,
   "metadata": {},
   "outputs": [],
   "source": [
    "# cria novo dataframe\n",
    "df_bert = df.copy()"
   ]
  },
  {
   "cell_type": "code",
   "execution_count": null,
   "metadata": {},
   "outputs": [
    {
     "data": {
      "text/html": [
       "<div>\n",
       "<style scoped>\n",
       "    .dataframe tbody tr th:only-of-type {\n",
       "        vertical-align: middle;\n",
       "    }\n",
       "\n",
       "    .dataframe tbody tr th {\n",
       "        vertical-align: top;\n",
       "    }\n",
       "\n",
       "    .dataframe thead th {\n",
       "        text-align: right;\n",
       "    }\n",
       "</style>\n",
       "<table border=\"1\" class=\"dataframe\">\n",
       "  <thead>\n",
       "    <tr style=\"text-align: right;\">\n",
       "      <th></th>\n",
       "      <th>0</th>\n",
       "    </tr>\n",
       "  </thead>\n",
       "  <tbody>\n",
       "    <tr>\n",
       "      <th>0</th>\n",
       "      <td>crazy that  is going to &gt; market cap at the ne...</td>\n",
       "    </tr>\n",
       "    <tr>\n",
       "      <th>1</th>\n",
       "      <td>crazy part is, a lot of what i have been tradi...</td>\n",
       "    </tr>\n",
       "    <tr>\n",
       "      <th>2</th>\n",
       "      <td>stacking on support..</td>\n",
       "    </tr>\n",
       "    <tr>\n",
       "      <th>3</th>\n",
       "      <td>lfg!!</td>\n",
       "    </tr>\n",
       "    <tr>\n",
       "      <th>4</th>\n",
       "      <td>- twitter been super bullish on this one and t...</td>\n",
       "    </tr>\n",
       "  </tbody>\n",
       "</table>\n",
       "</div>"
      ],
      "text/plain": [
       "                                                   0\n",
       "0  crazy that  is going to > market cap at the ne...\n",
       "1  crazy part is, a lot of what i have been tradi...\n",
       "2                              stacking on support..\n",
       "3                                              lfg!!\n",
       "4  - twitter been super bullish on this one and t..."
      ]
     },
     "execution_count": 21,
     "metadata": {},
     "output_type": "execute_result"
    }
   ],
   "source": [
    "# verifica as primeiras linhas\n",
    "df_tblob.head(5)"
   ]
  },
  {
   "cell_type": "code",
   "execution_count": null,
   "metadata": {},
   "outputs": [],
   "source": [
    "# categoriza o sentimento com textblob salvando no dataframe\n",
    "for row in df_tblob.itertuples():\n",
    "    tweet = df_tblob.at[row[0],0]\n",
    "    analysis = TextBlob(tweet)\n",
    "    df_tblob.at[row[0], 'polarity'] = analysis.sentiment[0]\n",
    "    df_tblob.at[row[0], 'subjectivity'] = analysis.sentiment[1]\n",
    "    if analysis.sentiment[0]>0:\n",
    "        df_tblob.at[row[0], 'Sentiment'] = \"Positivo\"\n",
    "    elif analysis.sentiment[0]<0:\n",
    "        df_tblob.at[row[0], 'Sentiment'] = \"Negativo\"\n",
    "    else:\n",
    "        df_tblob.at[row[0], 'Sentiment'] = \"Neutro\""
   ]
  },
  {
   "cell_type": "code",
   "execution_count": null,
   "metadata": {},
   "outputs": [
    {
     "data": {
      "text/html": [
       "<div>\n",
       "<style scoped>\n",
       "    .dataframe tbody tr th:only-of-type {\n",
       "        vertical-align: middle;\n",
       "    }\n",
       "\n",
       "    .dataframe tbody tr th {\n",
       "        vertical-align: top;\n",
       "    }\n",
       "\n",
       "    .dataframe thead th {\n",
       "        text-align: right;\n",
       "    }\n",
       "</style>\n",
       "<table border=\"1\" class=\"dataframe\">\n",
       "  <thead>\n",
       "    <tr style=\"text-align: right;\">\n",
       "      <th></th>\n",
       "      <th>0</th>\n",
       "      <th>polarity</th>\n",
       "      <th>subjectivity</th>\n",
       "      <th>Sentiment</th>\n",
       "    </tr>\n",
       "  </thead>\n",
       "  <tbody>\n",
       "    <tr>\n",
       "      <th>0</th>\n",
       "      <td>crazy that  is going to &gt; market cap at the ne...</td>\n",
       "      <td>0.125000</td>\n",
       "      <td>0.600</td>\n",
       "      <td>Positivo</td>\n",
       "    </tr>\n",
       "    <tr>\n",
       "      <th>1</th>\n",
       "      <td>crazy part is, a lot of what i have been tradi...</td>\n",
       "      <td>-0.600000</td>\n",
       "      <td>0.900</td>\n",
       "      <td>Negativo</td>\n",
       "    </tr>\n",
       "    <tr>\n",
       "      <th>2</th>\n",
       "      <td>stacking on support..</td>\n",
       "      <td>0.000000</td>\n",
       "      <td>0.000</td>\n",
       "      <td>Neutro</td>\n",
       "    </tr>\n",
       "    <tr>\n",
       "      <th>3</th>\n",
       "      <td>lfg!!</td>\n",
       "      <td>0.000000</td>\n",
       "      <td>0.000</td>\n",
       "      <td>Neutro</td>\n",
       "    </tr>\n",
       "    <tr>\n",
       "      <th>4</th>\n",
       "      <td>- twitter been super bullish on this one and t...</td>\n",
       "      <td>0.195833</td>\n",
       "      <td>0.325</td>\n",
       "      <td>Positivo</td>\n",
       "    </tr>\n",
       "  </tbody>\n",
       "</table>\n",
       "</div>"
      ],
      "text/plain": [
       "                                                   0  polarity  subjectivity  \\\n",
       "0  crazy that  is going to > market cap at the ne...  0.125000         0.600   \n",
       "1  crazy part is, a lot of what i have been tradi... -0.600000         0.900   \n",
       "2                              stacking on support..  0.000000         0.000   \n",
       "3                                              lfg!!  0.000000         0.000   \n",
       "4  - twitter been super bullish on this one and t...  0.195833         0.325   \n",
       "\n",
       "  Sentiment  \n",
       "0  Positivo  \n",
       "1  Negativo  \n",
       "2    Neutro  \n",
       "3    Neutro  \n",
       "4  Positivo  "
      ]
     },
     "execution_count": 23,
     "metadata": {},
     "output_type": "execute_result"
    }
   ],
   "source": [
    "# verifica as primeiras linhas com as novas colunas (variáveis)\n",
    "df_tblob.head(5)"
   ]
  },
  {
   "cell_type": "code",
   "execution_count": null,
   "metadata": {},
   "outputs": [],
   "source": [
    "# categoriza o sentimento com sentiment.vader salvando no dataframe\n",
    "for index, row in df_vader[0].items():\n",
    "    score = SentimentIntensityAnalyzer().polarity_scores(row)\n",
    "    if score['neg'] > score['pos']:\n",
    "        df_vader.loc[index, \"Sentiment\"] = \"Negativo\"\n",
    "    elif score['pos'] > score['neg']:\n",
    "        df_vader.loc[index, \"Sentiment\"] = \"Positivo\"\n",
    "    else:\n",
    "        df_vader.loc[index, \"Sentiment\"] = \"Neutro\"\n",
    "        \n",
    "    df_vader.loc[index, 'neg'] = score['neg']\n",
    "    df_vader.loc[index, 'neu'] = score['neu']\n",
    "    df_vader.loc[index, 'pos'] = score['pos']\n",
    "    df_vader.loc[index, 'compound'] = score['compound']"
   ]
  },
  {
   "cell_type": "code",
   "execution_count": null,
   "metadata": {},
   "outputs": [
    {
     "data": {
      "text/html": [
       "<div>\n",
       "<style scoped>\n",
       "    .dataframe tbody tr th:only-of-type {\n",
       "        vertical-align: middle;\n",
       "    }\n",
       "\n",
       "    .dataframe tbody tr th {\n",
       "        vertical-align: top;\n",
       "    }\n",
       "\n",
       "    .dataframe thead th {\n",
       "        text-align: right;\n",
       "    }\n",
       "</style>\n",
       "<table border=\"1\" class=\"dataframe\">\n",
       "  <thead>\n",
       "    <tr style=\"text-align: right;\">\n",
       "      <th></th>\n",
       "      <th>0</th>\n",
       "      <th>Sentiment</th>\n",
       "      <th>neg</th>\n",
       "      <th>neu</th>\n",
       "      <th>pos</th>\n",
       "      <th>compound</th>\n",
       "    </tr>\n",
       "  </thead>\n",
       "  <tbody>\n",
       "    <tr>\n",
       "      <th>0</th>\n",
       "      <td>crazy that  is going to &gt; market cap at the ne...</td>\n",
       "      <td>Negativo</td>\n",
       "      <td>0.182</td>\n",
       "      <td>0.765</td>\n",
       "      <td>0.053</td>\n",
       "      <td>-0.6597</td>\n",
       "    </tr>\n",
       "    <tr>\n",
       "      <th>1</th>\n",
       "      <td>crazy part is, a lot of what i have been tradi...</td>\n",
       "      <td>Negativo</td>\n",
       "      <td>0.179</td>\n",
       "      <td>0.821</td>\n",
       "      <td>0.000</td>\n",
       "      <td>-0.3400</td>\n",
       "    </tr>\n",
       "    <tr>\n",
       "      <th>2</th>\n",
       "      <td>stacking on support..</td>\n",
       "      <td>Neutro</td>\n",
       "      <td>0.000</td>\n",
       "      <td>1.000</td>\n",
       "      <td>0.000</td>\n",
       "      <td>0.0000</td>\n",
       "    </tr>\n",
       "    <tr>\n",
       "      <th>3</th>\n",
       "      <td>lfg!!</td>\n",
       "      <td>Neutro</td>\n",
       "      <td>0.000</td>\n",
       "      <td>1.000</td>\n",
       "      <td>0.000</td>\n",
       "      <td>0.0000</td>\n",
       "    </tr>\n",
       "    <tr>\n",
       "      <th>4</th>\n",
       "      <td>- twitter been super bullish on this one and t...</td>\n",
       "      <td>Positivo</td>\n",
       "      <td>0.000</td>\n",
       "      <td>0.809</td>\n",
       "      <td>0.191</td>\n",
       "      <td>0.7650</td>\n",
       "    </tr>\n",
       "  </tbody>\n",
       "</table>\n",
       "</div>"
      ],
      "text/plain": [
       "                                                   0 Sentiment    neg    neu  \\\n",
       "0  crazy that  is going to > market cap at the ne...  Negativo  0.182  0.765   \n",
       "1  crazy part is, a lot of what i have been tradi...  Negativo  0.179  0.821   \n",
       "2                              stacking on support..    Neutro  0.000  1.000   \n",
       "3                                              lfg!!    Neutro  0.000  1.000   \n",
       "4  - twitter been super bullish on this one and t...  Positivo  0.000  0.809   \n",
       "\n",
       "     pos  compound  \n",
       "0  0.053   -0.6597  \n",
       "1  0.000   -0.3400  \n",
       "2  0.000    0.0000  \n",
       "3  0.000    0.0000  \n",
       "4  0.191    0.7650  "
      ]
     },
     "execution_count": 25,
     "metadata": {},
     "output_type": "execute_result"
    }
   ],
   "source": [
    "# verifica as primeiras linhas com as novas colunas (variáveis)\n",
    "df_vader.head(5)"
   ]
  },
  {
   "cell_type": "code",
   "execution_count": null,
   "metadata": {},
   "outputs": [],
   "source": [
    "# carrega o pacote tokenizer nlptown/bert-base-multilingual-uncased-sentiment em variável\n",
    "# instancia a classe de modelo de classificação de sequências em variável model\n",
    "tokenizer = AutoTokenizer.from_pretrained('nlptown/bert-base-multilingual-uncased-sentiment')\n",
    "model = AutoModelForSequenceClassification.from_pretrained('nlptown/bert-base-multilingual-uncased-sentiment')"
   ]
  },
  {
   "cell_type": "code",
   "execution_count": null,
   "metadata": {},
   "outputs": [],
   "source": [
    "# define função utilizando modelo de classificação de sequências (tokens)\n",
    "def sentiment_score(review):\n",
    "    tokens = tokenizer.encode(review, return_tensors='pt')\n",
    "    result = model(tokens)\n",
    "    return int(torch.argmax(result.logits))+1"
   ]
  },
  {
   "cell_type": "code",
   "execution_count": null,
   "metadata": {},
   "outputs": [
    {
     "data": {
      "text/plain": [
       "(2000, 1)"
      ]
     },
     "execution_count": 28,
     "metadata": {},
     "output_type": "execute_result"
    }
   ],
   "source": [
    "# verifica linhas e colunas\n",
    "df_bert.shape"
   ]
  },
  {
   "cell_type": "code",
   "execution_count": null,
   "metadata": {},
   "outputs": [
    {
     "data": {
      "text/html": [
       "<div>\n",
       "<style scoped>\n",
       "    .dataframe tbody tr th:only-of-type {\n",
       "        vertical-align: middle;\n",
       "    }\n",
       "\n",
       "    .dataframe tbody tr th {\n",
       "        vertical-align: top;\n",
       "    }\n",
       "\n",
       "    .dataframe thead th {\n",
       "        text-align: right;\n",
       "    }\n",
       "</style>\n",
       "<table border=\"1\" class=\"dataframe\">\n",
       "  <thead>\n",
       "    <tr style=\"text-align: right;\">\n",
       "      <th></th>\n",
       "      <th>0</th>\n",
       "    </tr>\n",
       "  </thead>\n",
       "  <tbody>\n",
       "    <tr>\n",
       "      <th>0</th>\n",
       "      <td>crazy that  is going to &gt; market cap at the ne...</td>\n",
       "    </tr>\n",
       "    <tr>\n",
       "      <th>1</th>\n",
       "      <td>crazy part is, a lot of what i have been tradi...</td>\n",
       "    </tr>\n",
       "    <tr>\n",
       "      <th>2</th>\n",
       "      <td>stacking on support..</td>\n",
       "    </tr>\n",
       "    <tr>\n",
       "      <th>3</th>\n",
       "      <td>lfg!!</td>\n",
       "    </tr>\n",
       "    <tr>\n",
       "      <th>4</th>\n",
       "      <td>- twitter been super bullish on this one and t...</td>\n",
       "    </tr>\n",
       "  </tbody>\n",
       "</table>\n",
       "</div>"
      ],
      "text/plain": [
       "                                                   0\n",
       "0  crazy that  is going to > market cap at the ne...\n",
       "1  crazy part is, a lot of what i have been tradi...\n",
       "2                              stacking on support..\n",
       "3                                              lfg!!\n",
       "4  - twitter been super bullish on this one and t..."
      ]
     },
     "execution_count": 29,
     "metadata": {},
     "output_type": "execute_result"
    }
   ],
   "source": [
    "# verifica as primeiras linhas\n",
    "df_bert.head(5)"
   ]
  },
  {
   "cell_type": "code",
   "execution_count": null,
   "metadata": {},
   "outputs": [],
   "source": [
    "# transforma os tweets em uma string\n",
    "df_bert[0] = df_bert[0].astype(\"str\")"
   ]
  },
  {
   "cell_type": "code",
   "execution_count": null,
   "metadata": {},
   "outputs": [],
   "source": [
    "# categoriza o sentimento com BERT salvando no dataframe\n",
    "for index, row  in df_bert[0].items():\n",
    "    score = sentiment_score(row)\n",
    "    if score > 3:\n",
    "        df_bert.loc[index, \"Sentiment\"] = \"Positivo\"\n",
    "    elif score < 3:\n",
    "        df_bert.loc[index, \"Sentiment\"] = \"Negativo\"\n",
    "    else:\n",
    "        df_bert.loc[index, \"Sentiment\"] = \"Neutro\""
   ]
  },
  {
   "cell_type": "code",
   "execution_count": null,
   "metadata": {},
   "outputs": [
    {
     "data": {
      "text/html": [
       "<div>\n",
       "<style scoped>\n",
       "    .dataframe tbody tr th:only-of-type {\n",
       "        vertical-align: middle;\n",
       "    }\n",
       "\n",
       "    .dataframe tbody tr th {\n",
       "        vertical-align: top;\n",
       "    }\n",
       "\n",
       "    .dataframe thead th {\n",
       "        text-align: right;\n",
       "    }\n",
       "</style>\n",
       "<table border=\"1\" class=\"dataframe\">\n",
       "  <thead>\n",
       "    <tr style=\"text-align: right;\">\n",
       "      <th></th>\n",
       "      <th>0</th>\n",
       "      <th>Sentiment</th>\n",
       "    </tr>\n",
       "  </thead>\n",
       "  <tbody>\n",
       "    <tr>\n",
       "      <th>0</th>\n",
       "      <td>crazy that  is going to &gt; market cap at the ne...</td>\n",
       "      <td>Negativo</td>\n",
       "    </tr>\n",
       "    <tr>\n",
       "      <th>1</th>\n",
       "      <td>crazy part is, a lot of what i have been tradi...</td>\n",
       "      <td>Neutro</td>\n",
       "    </tr>\n",
       "    <tr>\n",
       "      <th>2</th>\n",
       "      <td>stacking on support..</td>\n",
       "      <td>Neutro</td>\n",
       "    </tr>\n",
       "    <tr>\n",
       "      <th>3</th>\n",
       "      <td>lfg!!</td>\n",
       "      <td>Negativo</td>\n",
       "    </tr>\n",
       "    <tr>\n",
       "      <th>4</th>\n",
       "      <td>- twitter been super bullish on this one and t...</td>\n",
       "      <td>Positivo</td>\n",
       "    </tr>\n",
       "  </tbody>\n",
       "</table>\n",
       "</div>"
      ],
      "text/plain": [
       "                                                   0 Sentiment\n",
       "0  crazy that  is going to > market cap at the ne...  Negativo\n",
       "1  crazy part is, a lot of what i have been tradi...    Neutro\n",
       "2                              stacking on support..    Neutro\n",
       "3                                              lfg!!  Negativo\n",
       "4  - twitter been super bullish on this one and t...  Positivo"
      ]
     },
     "execution_count": 32,
     "metadata": {},
     "output_type": "execute_result"
    }
   ],
   "source": [
    "# verifica as primeiras linhas\n",
    "df_bert.head(5)"
   ]
  },
  {
   "cell_type": "code",
   "execution_count": null,
   "metadata": {},
   "outputs": [],
   "source": [
    "# salva os dados tratados e criados em arquivo csv organizado pelo índice\n",
    "df_tblob.sort_index().to_csv('treated/df_tblob.csv', index=False)\n",
    "df_vader.sort_index().to_csv('treated/df_vader.csv', index=False)\n",
    "df_bert.sort_index().to_csv('treated/df_bert.csv', index=False)"
   ]
  }
 ],
 "metadata": {
  "kernelspec": {
   "display_name": "Python 3",
   "language": "python",
   "name": "python3"
  },
  "language_info": {
   "codemirror_mode": {
    "name": "ipython",
    "version": 3
   },
   "file_extension": ".py",
   "mimetype": "text/x-python",
   "name": "python",
   "nbconvert_exporter": "python",
   "pygments_lexer": "ipython3",
   "version": "3.11.5"
  }
 },
 "nbformat": 4,
 "nbformat_minor": 2
}
